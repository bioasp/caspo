{
 "metadata": {
  "name": "",
  "signature": "sha256:3e09810f27ce20dccb459d1de3928ade180e28ae3d0fc75019ade9526b213bc0"
 },
 "nbformat": 3,
 "nbformat_minor": 0,
 "worksheets": [
  {
   "cells": [
    {
     "cell_type": "heading",
     "level": 1,
     "metadata": {},
     "source": [
      "Example of how to integrate cellnopt.core and caspo"
     ]
    },
    {
     "cell_type": "heading",
     "level": 3,
     "metadata": {},
     "source": [
      "Start by using compression from cellnopt.core"
     ]
    },
    {
     "cell_type": "code",
     "collapsed": false,
     "input": [
      "from cellnopt.core import CNOGraph, MIDASReader"
     ],
     "language": "python",
     "metadata": {},
     "outputs": [
      {
       "output_type": "stream",
       "stream": "stdout",
       "text": [
        "Couldn't import dot_parser, loading of dot files will not be possible.\n"
       ]
      }
     ],
     "prompt_number": 1
    },
    {
     "cell_type": "code",
     "collapsed": false,
     "input": [
      "pkn = CNOGraph('../caspo/data/LiverToy/pkn.sif', '../caspo/data/LiverToy/dataset.csv')"
     ],
     "language": "python",
     "metadata": {},
     "outputs": [],
     "prompt_number": 2
    },
    {
     "cell_type": "code",
     "collapsed": false,
     "input": [
      "pkn.compress()"
     ],
     "language": "python",
     "metadata": {},
     "outputs": [],
     "prompt_number": 3
    },
    {
     "cell_type": "heading",
     "level": 3,
     "metadata": {},
     "source": [
      "Next, we extract the compressed graph for caspo"
     ]
    },
    {
     "cell_type": "code",
     "collapsed": false,
     "input": [
      "from caspo import core, learn"
     ],
     "language": "python",
     "metadata": {},
     "outputs": [],
     "prompt_number": 4
    },
    {
     "cell_type": "code",
     "collapsed": false,
     "input": [
      "graph = core.Graph(pkn.nodes(), map(lambda t: (t[0],t[1], 1 if t[2]['link'] == '+' else -1), pkn.edges_iter(pkn.nodes(),True)))"
     ],
     "language": "python",
     "metadata": {},
     "outputs": [],
     "prompt_number": 5
    },
    {
     "cell_type": "heading",
     "level": 3,
     "metadata": {},
     "source": [
      "Now, we read the MIDAS from caspo (for now it's easier than extracting all data from MIDASReader inside CNOGraph)"
     ]
    },
    {
     "cell_type": "code",
     "collapsed": false,
     "input": [
      "from zope import component, interface"
     ],
     "language": "python",
     "metadata": {},
     "outputs": [],
     "prompt_number": 6
    },
    {
     "cell_type": "code",
     "collapsed": false,
     "input": [
      "csv_reader = component.getUtility(core.ICsvReader)"
     ],
     "language": "python",
     "metadata": {},
     "outputs": [],
     "prompt_number": 7
    },
    {
     "cell_type": "code",
     "collapsed": false,
     "input": [
      "csv_reader.read('../caspo/data/LiverToy/dataset.csv')"
     ],
     "language": "python",
     "metadata": {},
     "outputs": [],
     "prompt_number": 8
    },
    {
     "cell_type": "code",
     "collapsed": false,
     "input": [
      "midas = core.IDataset(csv_reader)"
     ],
     "language": "python",
     "metadata": {},
     "outputs": [],
     "prompt_number": 9
    },
    {
     "cell_type": "heading",
     "level": 3,
     "metadata": {},
     "source": [
      "Create clingo and problem instance for learning"
     ]
    },
    {
     "cell_type": "code",
     "collapsed": false,
     "input": [
      "from pyzcasp import asp, potassco"
     ],
     "language": "python",
     "metadata": {},
     "outputs": [],
     "prompt_number": 10
    },
    {
     "cell_type": "code",
     "collapsed": false,
     "input": [
      "clingo = potassco.Clingo(\"clingo\")"
     ],
     "language": "python",
     "metadata": {},
     "outputs": [],
     "prompt_number": 11
    },
    {
     "cell_type": "code",
     "collapsed": false,
     "input": [
      "discretize = component.createObject('round', 100)"
     ],
     "language": "python",
     "metadata": {},
     "outputs": [],
     "prompt_number": 12
    },
    {
     "cell_type": "code",
     "collapsed": false,
     "input": [
      "discreteDS = component.getMultiAdapter((midas, discretize), learn.IDiscreteDataset)"
     ],
     "language": "python",
     "metadata": {},
     "outputs": [],
     "prompt_number": 13
    },
    {
     "cell_type": "code",
     "collapsed": false,
     "input": [
      "instance = component.getMultiAdapter((graph, core.TimePoint(10), discreteDS), asp.ITermSet)"
     ],
     "language": "python",
     "metadata": {},
     "outputs": [],
     "prompt_number": 14
    },
    {
     "cell_type": "code",
     "collapsed": false,
     "input": [
      "learner = component.getMultiAdapter((instance, clingo), learn.ILearner)"
     ],
     "language": "python",
     "metadata": {},
     "outputs": [],
     "prompt_number": 15
    },
    {
     "cell_type": "code",
     "collapsed": false,
     "input": [
      "networks = learner.learn(0.1, 5)"
     ],
     "language": "python",
     "metadata": {},
     "outputs": [],
     "prompt_number": 16
    },
    {
     "cell_type": "heading",
     "level": 3,
     "metadata": {},
     "source": [
      "Let's convert the objects (BoolLogicNetwork) from caspo to CNOGraph from cellnopt.core"
     ]
    },
    {
     "cell_type": "code",
     "collapsed": false,
     "input": [
      "midas = MIDASReader('../caspo/data/LiverToy/dataset.csv')"
     ],
     "language": "python",
     "metadata": {},
     "outputs": [],
     "prompt_number": 17
    },
    {
     "cell_type": "code",
     "collapsed": false,
     "input": [
      "graphs = []\n",
      "for net in networks:\n",
      "    cnograph = CNOGraph()\n",
      "    cnograph.midas = midas\n",
      "    for var, clauses in net.mapping.iteritems():\n",
      "        for clause in clauses:\n",
      "            cnograph.add_reaction(\"%s=%s\" % (str(clause).replace('+','^'), var))\n",
      "    graphs.append(cnograph)"
     ],
     "language": "python",
     "metadata": {},
     "outputs": [],
     "prompt_number": 18
    },
    {
     "cell_type": "heading",
     "level": 3,
     "metadata": {},
     "source": [
      "Finally, visualize using cellnopt.core"
     ]
    },
    {
     "cell_type": "code",
     "collapsed": false,
     "input": [
      "%pylab inline"
     ],
     "language": "python",
     "metadata": {},
     "outputs": [
      {
       "output_type": "stream",
       "stream": "stdout",
       "text": [
        "Populating the interactive namespace from numpy and matplotlib\n"
       ]
      },
      {
       "output_type": "stream",
       "stream": "stderr",
       "text": [
        "WARNING: pylab import has clobbered these variables: ['var']\n",
        "`%matplotlib` prevents importing * from pylab and numpy\n"
       ]
      }
     ],
     "prompt_number": 19
    },
    {
     "cell_type": "code",
     "collapsed": false,
     "input": [
      "graphs[0].plotdot()"
     ],
     "language": "python",
     "metadata": {},
     "outputs": [
      {
       "output_type": "stream",
       "stream": "stderr",
       "text": [
        "INFO:root:dot -Tpng /var/folders/xj/lp0mkd353r77pf5k96hnrz6h0000gn/T/tmpilBm7o.dot -o /var/folders/xj/lp0mkd353r77pf5k96hnrz6h0000gn/T/tmpbnbKZd.png\n"
       ]
      },
      {
       "output_type": "stream",
       "stream": "stdout",
       "text": [
        "easydev WARNING:: deprecated; use check_param_in_list instead.\n"
       ]
      },
      {
       "metadata": {},
       "output_type": "pyout",
       "prompt_number": 20,
       "text": [
        "<matplotlib.axes.Axes at 0x10780c950>"
       ]
      },
      {
       "metadata": {},
       "output_type": "display_data",
       "png": "[encoded data removed]",
       "text": [
        "<matplotlib.figure.Figure at 0x1076d1850>"
       ]
      }
     ],
     "prompt_number": 20
    },
    {
     "cell_type": "code",
     "collapsed": false,
     "input": [
      "graphs[1].plotdot()"
     ],
     "language": "python",
     "metadata": {},
     "outputs": [
      {
       "output_type": "stream",
       "stream": "stderr",
       "text": [
        "INFO:root:dot -Tpng /var/folders/xj/lp0mkd353r77pf5k96hnrz6h0000gn/T/tmpRFicnS.dot -o /var/folders/xj/lp0mkd353r77pf5k96hnrz6h0000gn/T/tmp0oEn4o.png\n"
       ]
      },
      {
       "output_type": "stream",
       "stream": "stdout",
       "text": [
        "easydev WARNING:: deprecated; use check_param_in_list instead.\n"
       ]
      },
      {
       "metadata": {},
       "output_type": "pyout",
       "prompt_number": 21,
       "text": [
        "<matplotlib.axes.Axes at 0x10781e190>"
       ]
      },
      {
       "metadata": {},
       "output_type": "display_data",
       "png": "[encoded data removed]",
       "text": [
        "<matplotlib.figure.Figure at 0x107820590>"
       ]
      }
     ],
     "prompt_number": 21
    },
    {
     "cell_type": "code",
     "collapsed": false,
     "input": [],
     "language": "python",
     "metadata": {},
     "outputs": []
    }
   ],
   "metadata": {}
  }
 ]
}